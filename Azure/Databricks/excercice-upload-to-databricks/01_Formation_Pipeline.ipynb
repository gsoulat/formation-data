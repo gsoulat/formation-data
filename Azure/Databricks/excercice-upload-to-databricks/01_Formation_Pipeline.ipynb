{
 "cells": [
  {
   "cell_type": "code",
   "execution_count": 0,
   "metadata": {
    "application/vnd.databricks.v1+cell": {
     "cellMetadata": {
      "byteLimit": 2048000,
      "rowLimit": 10000
     },
     "inputWidgets": {},
     "nuid": "f1a995d9-f3f4-41e4-a5fe-7a041a8dda54",
     "showTitle": false,
     "tableResultSettingsMap": {},
     "title": ""
    }
   },
   "outputs": [
    {
     "name": "stdout",
     "output_type": "stream",
     "text": [
      "==================================================\n",
      "ENVIRONNEMENT DATABRICKS\n",
      "==================================================\n",
      "✅ Version Spark : 4.0.0\n",
      "✅ Langage : Python 3.12.3\n",
      "✅ Type de cluster : Serverless\n",
      "✅ Prêt pour la formation !\n",
      "==================================================\n"
     ]
    }
   ],
   "source": [
    "# Vérification de l'environnement (compatible serverless)\n",
    "print(\"=\" * 50)\n",
    "print(\"ENVIRONNEMENT DATABRICKS\")\n",
    "print(\"=\" * 50)\n",
    "print(f\"Version Spark : {spark.version}\")\n",
    "import sys\n",
    "print(f\"Langage : Python {sys.version.split()[0]}\")\n",
    "print(f\"Type de cluster : Serverless\")\n",
    "print(f\"Prêt pour la formation !\")\n",
    "print(\"=\" * 50)"
   ]
  },
  {
   "cell_type": "code",
   "execution_count": 0,
   "metadata": {
    "application/vnd.databricks.v1+cell": {
     "cellMetadata": {
      "byteLimit": 2048000,
      "rowLimit": 10000
     },
     "inputWidgets": {},
     "nuid": "dc5df810-81ad-4c53-96cd-a8ac0f7c0e1c",
     "showTitle": false,
     "tableResultSettingsMap": {},
     "title": ""
    }
   },
   "outputs": [
    {
     "name": "stdout",
     "output_type": "stream",
     "text": [
      "COUCHE BRONZE - Données brutes chargées\n",
      "Nombre de lignes : 8\n",
      "+-----------+-------------------+------+-------+-------+---------+----------+\n",
      "|id_commande|      date_commande|client|produit|montant|    ville|    statut|\n",
      "+-----------+-------------------+------+-------+-------+---------+----------+\n",
      "|          1|2025-10-01 10:30:00| Alice| Laptop| 1200.0|    Paris| Confirmée|\n",
      "|          2|2025-10-01 11:15:00|   Bob| Souris|   25.5|     Lyon| Confirmée|\n",
      "|          3|2025-10-02 09:20:00|Claire|Clavier|   75.0|    Paris|   Annulée|\n",
      "|          4|2025-10-02 14:45:00| David|  Écran|  350.0|Marseille| Confirmée|\n",
      "|          5|2025-10-03 16:00:00|  Emma| Laptop| 1200.0|     Lyon| Confirmée|\n",
      "|          6|2025-10-03 17:30:00| Alice| Souris|   25.5|    Paris| Confirmée|\n",
      "|          7|2025-10-04 10:00:00|  NULL|Clavier|   75.0|     NULL|En attente|\n",
      "|          8|2025-10-04 12:00:00|   Bob|  Écran|  -50.0|     Lyon| Confirmée|\n",
      "+-----------+-------------------+------+-------+-------+---------+----------+\n",
      "\n"
     ]
    }
   ],
   "source": [
    "# Créer un dataset d'exemple : ventes d'un e-commerce\n",
    "from pyspark.sql.types import StructType, StructField, StringType, IntegerType, DoubleType, TimestampType\n",
    "from datetime import datetime\n",
    "\n",
    "# Données brutes (simulation de fichier CSV)\n",
    "data_ventes = [\n",
    "    (1, \"2025-10-01 10:30:00\", \"Alice\", \"Laptop\", 1200.00, \"Paris\", \"Confirmée\"),\n",
    "    (2, \"2025-10-01 11:15:00\", \"Bob\", \"Souris\", 25.50, \"Lyon\", \"Confirmée\"),\n",
    "    (3, \"2025-10-02 09:20:00\", \"Claire\", \"Clavier\", 75.00, \"Paris\", \"Annulée\"),\n",
    "    (4, \"2025-10-02 14:45:00\", \"David\", \"Écran\", 350.00, \"Marseille\", \"Confirmée\"),\n",
    "    (5, \"2025-10-03 16:00:00\", \"Emma\", \"Laptop\", 1200.00, \"Lyon\", \"Confirmée\"),\n",
    "    (6, \"2025-10-03 17:30:00\", \"Alice\", \"Souris\", 25.50, \"Paris\", \"Confirmée\"),\n",
    "    (7, \"2025-10-04 10:00:00\", None, \"Clavier\", 75.00, None, \"En attente\"),\n",
    "    (8, \"2025-10-04 12:00:00\", \"Bob\", \"Écran\", -50.00, \"Lyon\", \"Confirmée\"),\n",
    "]\n",
    "\n",
    "# Schéma du DataFrame\n",
    "schema = StructType([\n",
    "    StructField(\"id_commande\", IntegerType(), True),\n",
    "    StructField(\"date_commande\", StringType(), True),\n",
    "    StructField(\"client\", StringType(), True),\n",
    "    StructField(\"produit\", StringType(), True),\n",
    "    StructField(\"montant\", DoubleType(), True),\n",
    "    StructField(\"ville\", StringType(), True),\n",
    "    StructField(\"statut\", StringType(), True)\n",
    "])\n",
    "\n",
    "# Créer le DataFrame (couche BRONZE - données brutes)\n",
    "df_bronze = spark.createDataFrame(data_ventes, schema)\n",
    "\n",
    "print(\"COUCHE BRONZE - Données brutes chargées\")\n",
    "print(f\"Nombre de lignes : {df_bronze.count()}\")\n",
    "df_bronze.show()"
   ]
  },
  {
   "cell_type": "code",
   "execution_count": 0,
   "metadata": {
    "application/vnd.databricks.v1+cell": {
     "cellMetadata": {
      "byteLimit": 2048000,
      "rowLimit": 10000
     },
     "inputWidgets": {},
     "nuid": "5120a3d2-ec12-4e5d-b866-a24cc7ab3908",
     "showTitle": false,
     "tableResultSettingsMap": {},
     "title": ""
    }
   },
   "outputs": [
    {
     "name": "stdout",
     "output_type": "stream",
     "text": [
      "TRANSFORMATION : BRONZE → SILVER\n",
      "==================================================\n",
      "Lignes avant nettoyage : 8\n",
      "Lignes après nettoyage : 6\n",
      "Lignes supprimées : 2\n",
      "\n",
      " COUCHE SILVER - Données nettoyées :\n",
      "+-----------+-------------------+------+-------+-------+---------+---------+--------------+\n",
      "|id_commande|      date_commande|client|produit|montant|    ville|   statut|categorie_prix|\n",
      "+-----------+-------------------+------+-------+-------+---------+---------+--------------+\n",
      "|          1|2025-10-01 10:30:00| Alice| Laptop| 1200.0|    Paris|Confirmée|       Premium|\n",
      "|          2|2025-10-01 11:15:00|   Bob| Souris|   25.5|     Lyon|Confirmée|    Économique|\n",
      "|          3|2025-10-02 09:20:00|Claire|Clavier|   75.0|    Paris|  Annulée|      Standard|\n",
      "|          4|2025-10-02 14:45:00| David|  Écran|  350.0|Marseille|Confirmée|      Standard|\n",
      "|          5|2025-10-03 16:00:00|  Emma| Laptop| 1200.0|     Lyon|Confirmée|       Premium|\n",
      "|          6|2025-10-03 17:30:00| Alice| Souris|   25.5|    Paris|Confirmée|    Économique|\n",
      "+-----------+-------------------+------+-------+-------+---------+---------+--------------+\n",
      "\n"
     ]
    }
   ],
   "source": [
    "from pyspark.sql.functions import col, to_timestamp, when, trim\n",
    "\n",
    "print(\"TRANSFORMATION : BRONZE → SILVER\")\n",
    "print(\"=\" * 50)\n",
    "\n",
    "# 1. Convertir la date en format Timestamp\n",
    "df_silver = df_bronze.withColumn(\n",
    "    \"date_commande\", \n",
    "    to_timestamp(col(\"date_commande\"), \"yyyy-MM-dd HH:mm:ss\")\n",
    ")\n",
    "\n",
    "# 2. Filtrer les lignes avec des valeurs NULL dans les colonnes critiques\n",
    "df_silver = df_silver.filter(\n",
    "    col(\"client\").isNotNull() & \n",
    "    col(\"ville\").isNotNull()\n",
    ")\n",
    "\n",
    "# 3. Filtrer les montants invalides (négatifs ou nuls)\n",
    "df_silver = df_silver.filter(\n",
    "    (col(\"montant\") > 0)\n",
    ")\n",
    "\n",
    "# 4. Nettoyer les espaces dans les textes\n",
    "df_silver = df_silver.withColumn(\"client\", trim(col(\"client\")))\n",
    "df_silver = df_silver.withColumn(\"ville\", trim(col(\"ville\")))\n",
    "df_silver = df_silver.withColumn(\"produit\", trim(col(\"produit\")))\n",
    "\n",
    "# 5. Ajouter une colonne calculée : catégorie de prix\n",
    "df_silver = df_silver.withColumn(\n",
    "    \"categorie_prix\",\n",
    "    when(col(\"montant\") < 50, \"Économique\")\n",
    "    .when((col(\"montant\") >= 50) & (col(\"montant\") < 500), \"Standard\")\n",
    "    .otherwise(\"Premium\")\n",
    ")\n",
    "\n",
    "print(f\"Lignes avant nettoyage : {df_bronze.count()}\")\n",
    "print(f\"Lignes après nettoyage : {df_silver.count()}\")\n",
    "print(f\"Lignes supprimées : {df_bronze.count() - df_silver.count()}\")\n",
    "print(\"\\n COUCHE SILVER - Données nettoyées :\")\n",
    "df_silver.show()"
   ]
  },
  {
   "cell_type": "code",
   "execution_count": 0,
   "metadata": {
    "application/vnd.databricks.v1+cell": {
     "cellMetadata": {
      "byteLimit": 2048000,
      "rowLimit": 10000
     },
     "inputWidgets": {},
     "nuid": "1300ec6d-12ca-43e5-86cb-86d61b9b3d71",
     "showTitle": false,
     "tableResultSettingsMap": {},
     "title": ""
    }
   },
   "outputs": [
    {
     "name": "stdout",
     "output_type": "stream",
     "text": [
      "AGRÉGATION : SILVER → GOLD\n",
      "==================================================\n",
      "\n",
      " COUCHE GOLD - Métriques par ville :\n",
      "+---------+----------------+----------------+------------+--------------+\n",
      "|    ville|nombre_commandes|chiffre_affaires|panier_moyen|nombre_clients|\n",
      "+---------+----------------+----------------+------------+--------------+\n",
      "|    Paris|               3|          1300.5|       433.5|             3|\n",
      "|     Lyon|               2|          1225.5|      612.75|             2|\n",
      "|Marseille|               1|           350.0|       350.0|             1|\n",
      "+---------+----------------+----------------+------------+--------------+\n",
      "\n",
      "\n",
      " COUCHE GOLD - Métriques par produit :\n",
      "+-------+---------------+------------+----------+\n",
      "|produit|quantite_vendue|revenu_total|prix_moyen|\n",
      "+-------+---------------+------------+----------+\n",
      "| Laptop|              2|      2400.0|    1200.0|\n",
      "|  Écran|              1|       350.0|     350.0|\n",
      "|Clavier|              1|        75.0|      75.0|\n",
      "| Souris|              2|        51.0|      25.5|\n",
      "+-------+---------------+------------+----------+\n",
      "\n",
      "\n",
      " RÉSUMÉ GLOBAL :\n",
      "Chiffre d'affaires total : 2876.00 €\n",
      "Nombre total de commandes : 6\n",
      "Nombre de villes : 3\n",
      "Nombre de produits : 4\n"
     ]
    }
   ],
   "source": [
    "from pyspark.sql.functions import sum, count, avg, max, min\n",
    "\n",
    "print(\"AGRÉGATION : SILVER → GOLD\")\n",
    "print(\"=\" * 50)\n",
    "\n",
    "# Métriques par ville\n",
    "df_gold_ville = df_silver.groupBy(\"ville\").agg(\n",
    "    count(\"id_commande\").alias(\"nombre_commandes\"),\n",
    "    sum(\"montant\").alias(\"chiffre_affaires\"),\n",
    "    avg(\"montant\").alias(\"panier_moyen\"),\n",
    "    count(\"client\").alias(\"nombre_clients\")\n",
    ").orderBy(col(\"chiffre_affaires\").desc())\n",
    "\n",
    "print(\"\\n COUCHE GOLD - Métriques par ville :\")\n",
    "df_gold_ville.show()\n",
    "\n",
    "# Métriques par produit\n",
    "df_gold_produit = df_silver.groupBy(\"produit\").agg(\n",
    "    count(\"id_commande\").alias(\"quantite_vendue\"),\n",
    "    sum(\"montant\").alias(\"revenu_total\"),\n",
    "    avg(\"montant\").alias(\"prix_moyen\")\n",
    ").orderBy(col(\"revenu_total\").desc())\n",
    "\n",
    "print(\"\\n COUCHE GOLD - Métriques par produit :\")\n",
    "df_gold_produit.show()\n",
    "\n",
    "# Vue d'ensemble\n",
    "print(\"\\n RÉSUMÉ GLOBAL :\")\n",
    "print(f\"Chiffre d'affaires total : {df_silver.agg(sum('montant')).collect()[0][0]:.2f} €\")\n",
    "print(f\"Nombre total de commandes : {df_silver.count()}\")\n",
    "print(f\"Nombre de villes : {df_silver.select('ville').distinct().count()}\")\n",
    "print(f\"Nombre de produits : {df_silver.select('produit').distinct().count()}\")"
   ]
  },
  {
   "cell_type": "code",
   "execution_count": 0,
   "metadata": {
    "application/vnd.databricks.v1+cell": {
     "cellMetadata": {
      "byteLimit": 2048000,
      "rowLimit": 10000
     },
     "inputWidgets": {},
     "nuid": "eeb96992-fbaa-4ed2-915e-4fa9b9587de7",
     "showTitle": false,
     "tableResultSettingsMap": {},
     "title": ""
    }
   },
   "outputs": [
    {
     "name": "stdout",
     "output_type": "stream",
     "text": [
      "SAUVEGARDE DANS DELTA LAKE\n",
      "==================================================\n",
      "Couche BRONZE sauvegardée : /tmp/formation/bronze/ventes\n",
      "Couche SILVER sauvegardée : /tmp/formation/silver/ventes\n",
      "Couche GOLD (ville) sauvegardée : /tmp/formation/gold/ventes_par_ville\n",
      "Couche GOLD (produit) sauvegardée : /tmp/formation/gold/ventes_par_produit\n",
      "\n",
      " Pipeline terminée avec succès !\n"
     ]
    }
   ],
   "source": [
    "print(\"SAUVEGARDE DANS DELTA LAKE\")\n",
    "print(\"=\" * 50)\n",
    "\n",
    "# Définir le chemin de stockage (DBFS = Databricks File System)\n",
    "path_bronze = \"/tmp/formation/bronze/ventes\"\n",
    "path_silver = \"/tmp/formation/silver/ventes\"\n",
    "path_gold_ville = \"/tmp/formation/gold/ventes_par_ville\"\n",
    "path_gold_produit = \"/tmp/formation/gold/ventes_par_produit\"\n",
    "\n",
    "# Sauvegarder Bronze\n",
    "df_bronze.write.format(\"delta\").mode(\"overwrite\").save(path_bronze)\n",
    "print(f\"Couche BRONZE sauvegardée : {path_bronze}\")\n",
    "\n",
    "# Sauvegarder Silver\n",
    "df_silver.write.format(\"delta\").mode(\"overwrite\").save(path_silver)\n",
    "print(f\"Couche SILVER sauvegardée : {path_silver}\")\n",
    "\n",
    "# Sauvegarder Gold\n",
    "df_gold_ville.write.format(\"delta\").mode(\"overwrite\").save(path_gold_ville)\n",
    "print(f\"Couche GOLD (ville) sauvegardée : {path_gold_ville}\")\n",
    "\n",
    "df_gold_produit.write.format(\"delta\").mode(\"overwrite\").save(path_gold_produit)\n",
    "print(f\"Couche GOLD (produit) sauvegardée : {path_gold_produit}\")\n",
    "\n",
    "print(\"\\n Pipeline terminée avec succès !\")"
   ]
  },
  {
   "cell_type": "code",
   "execution_count": 0,
   "metadata": {
    "application/vnd.databricks.v1+cell": {
     "cellMetadata": {
      "byteLimit": 2048000,
      "rowLimit": 10000
     },
     "inputWidgets": {},
     "nuid": "a1236dda-79e2-4fb5-921a-770d82a834f9",
     "showTitle": false,
     "tableResultSettingsMap": {},
     "title": ""
    }
   },
   "outputs": [
    {
     "name": "stdout",
     "output_type": "stream",
     "text": [
      "CRÉATION DES TABLES MANAGÉES\n",
      "======================================================================\n",
      "Schema 'formation' créé\n",
      "\n",
      "🔍 Vérification des DataFrames...\n",
      "  df_bronze : 8 lignes\n",
      "  df_silver : 6 lignes\n",
      "  df_gold_ville : 3 lignes\n",
      "  df_gold_produit : 4 lignes\n",
      "\n",
      "Création des tables...\n",
      "Table formation.ventes_bronze créée\n",
      "Table formation.ventes_silver créée\n",
      "Table formation.ventes_gold_ville créée\n",
      "Table formation.ventes_gold_produit créée\n",
      "\n",
      " Toutes les tables sont prêtes !\n",
      "Les données sont gérées automatiquement par Databricks\n"
     ]
    }
   ],
   "source": [
    "print(\"CRÉATION DES TABLES MANAGÉES\")\n",
    "print(\"=\" * 70)\n",
    "\n",
    "# Créer le schema\n",
    "spark.sql(\"CREATE SCHEMA IF NOT EXISTS formation\")\n",
    "print(\"Schema 'formation' créé\")\n",
    "\n",
    "# Vérifier que les DataFrames existent\n",
    "print(\"\\n🔍 Vérification des DataFrames...\")\n",
    "try:\n",
    "    print(f\"  df_bronze : {df_bronze.count()} lignes\")\n",
    "    print(f\"  df_silver : {df_silver.count()} lignes\")\n",
    "    print(f\"  df_gold_ville : {df_gold_ville.count()} lignes\")\n",
    "    print(f\"  df_gold_produit : {df_gold_produit.count()} lignes\")\n",
    "except:\n",
    "    print(\"Les DataFrames n'existent pas. Exécutez d'abord les cellules 2, 3 et 4 !\")\n",
    "    raise\n",
    "\n",
    "print(\"\\nCréation des tables...\")\n",
    "\n",
    "# Bronze\n",
    "df_bronze.write.format(\"delta\").mode(\"overwrite\").saveAsTable(\"formation.ventes_bronze\")\n",
    "print(\"Table formation.ventes_bronze créée\")\n",
    "\n",
    "# Silver\n",
    "df_silver.write.format(\"delta\").mode(\"overwrite\").saveAsTable(\"formation.ventes_silver\")\n",
    "print(\"Table formation.ventes_silver créée\")\n",
    "\n",
    "# Gold - Ville\n",
    "df_gold_ville.write.format(\"delta\").mode(\"overwrite\").saveAsTable(\"formation.ventes_gold_ville\")\n",
    "print(\"Table formation.ventes_gold_ville créée\")\n",
    "\n",
    "# Gold - Produit\n",
    "df_gold_produit.write.format(\"delta\").mode(\"overwrite\").saveAsTable(\"formation.ventes_gold_produit\")\n",
    "print(\"Table formation.ventes_gold_produit créée\")\n",
    "\n",
    "print(\"\\n Toutes les tables sont prêtes !\")\n",
    "print(\"Les données sont gérées automatiquement par Databricks\")"
   ]
  },
  {
   "cell_type": "code",
   "execution_count": 0,
   "metadata": {
    "application/vnd.databricks.v1+cell": {
     "cellMetadata": {
      "byteLimit": 2048000,
      "rowLimit": 10000
     },
     "inputWidgets": {},
     "nuid": "913cd0c4-b205-48ec-9710-14e057489f02",
     "showTitle": false,
     "tableResultSettingsMap": {},
     "title": ""
    }
   },
   "outputs": [
    {
     "name": "stdout",
     "output_type": "stream",
     "text": [
      "VÉRIFICATION DES TABLES\n",
      "======================================================================\n",
      "ventes_bronze                  : 8 lignes\n",
      "ventes_gold_produit            : 4 lignes\n",
      "ventes_gold_ville              : 3 lignes\n",
      "ventes_silver                  : 6 lignes\n",
      "\n",
      "Tout est prêt pour les requêtes SQL !\n"
     ]
    }
   ],
   "source": [
    "print(\"VÉRIFICATION DES TABLES\")\n",
    "print(\"=\" * 70)\n",
    "\n",
    "tables = spark.sql(\"SHOW TABLES IN formation\").collect()\n",
    "\n",
    "for table in tables:\n",
    "    table_name = table.tableName\n",
    "    count = spark.sql(f\"SELECT COUNT(*) as cnt FROM formation.{table_name}\").collect()[0]['cnt']\n",
    "    print(f\"{table_name:30} : {count} lignes\")\n",
    "\n",
    "print(\"\\nTout est prêt pour les requêtes SQL !\")"
   ]
  },
  {
   "cell_type": "code",
   "execution_count": 0,
   "metadata": {
    "application/vnd.databricks.v1+cell": {
     "cellMetadata": {
      "byteLimit": 2048000,
      "implicitDf": true,
      "rowLimit": 10000
     },
     "inputWidgets": {},
     "nuid": "cc296238-f790-4bcc-93ab-dd595405b5f2",
     "showTitle": false,
     "tableResultSettingsMap": {},
     "title": ""
    }
   },
   "outputs": [
    {
     "data": {
      "text/html": [
       "<style scoped>\n",
       "  .table-result-container {\n",
       "    max-height: 300px;\n",
       "    overflow: auto;\n",
       "  }\n",
       "  table, th, td {\n",
       "    border: 1px solid black;\n",
       "    border-collapse: collapse;\n",
       "  }\n",
       "  th, td {\n",
       "    padding: 5px;\n",
       "  }\n",
       "  th {\n",
       "    text-align: left;\n",
       "  }\n",
       "</style><div class='table-result-container'><table class='table-result'><thead style='background-color: white'><tr><th>id_commande</th><th>date_commande</th><th>client</th><th>produit</th><th>montant</th><th>ville</th><th>statut</th><th>categorie_prix</th></tr></thead><tbody><tr><td>1</td><td>2025-10-01T10:30:00.000Z</td><td>Alice</td><td>Laptop</td><td>1200.0</td><td>Paris</td><td>Confirmée</td><td>Premium</td></tr><tr><td>5</td><td>2025-10-03T16:00:00.000Z</td><td>Emma</td><td>Laptop</td><td>1200.0</td><td>Lyon</td><td>Confirmée</td><td>Premium</td></tr><tr><td>4</td><td>2025-10-02T14:45:00.000Z</td><td>David</td><td>Écran</td><td>350.0</td><td>Marseille</td><td>Confirmée</td><td>Standard</td></tr><tr><td>3</td><td>2025-10-02T09:20:00.000Z</td><td>Claire</td><td>Clavier</td><td>75.0</td><td>Paris</td><td>Annulée</td><td>Standard</td></tr><tr><td>2</td><td>2025-10-01T11:15:00.000Z</td><td>Bob</td><td>Souris</td><td>25.5</td><td>Lyon</td><td>Confirmée</td><td>Économique</td></tr><tr><td>6</td><td>2025-10-03T17:30:00.000Z</td><td>Alice</td><td>Souris</td><td>25.5</td><td>Paris</td><td>Confirmée</td><td>Économique</td></tr></tbody></table></div>"
      ]
     },
     "metadata": {
      "application/vnd.databricks.v1+output": {
       "addedWidgets": {},
       "aggData": [],
       "aggError": "",
       "aggOverflow": false,
       "aggSchema": [],
       "aggSeriesLimitReached": false,
       "aggType": "",
       "arguments": {},
       "columnCustomDisplayInfos": {},
       "data": [
        [
         1,
         "2025-10-01T10:30:00.000Z",
         "Alice",
         "Laptop",
         1200,
         "Paris",
         "Confirmée",
         "Premium"
        ],
        [
         5,
         "2025-10-03T16:00:00.000Z",
         "Emma",
         "Laptop",
         1200,
         "Lyon",
         "Confirmée",
         "Premium"
        ],
        [
         4,
         "2025-10-02T14:45:00.000Z",
         "David",
         "Écran",
         350,
         "Marseille",
         "Confirmée",
         "Standard"
        ],
        [
         3,
         "2025-10-02T09:20:00.000Z",
         "Claire",
         "Clavier",
         75,
         "Paris",
         "Annulée",
         "Standard"
        ],
        [
         2,
         "2025-10-01T11:15:00.000Z",
         "Bob",
         "Souris",
         25.5,
         "Lyon",
         "Confirmée",
         "Économique"
        ],
        [
         6,
         "2025-10-03T17:30:00.000Z",
         "Alice",
         "Souris",
         25.5,
         "Paris",
         "Confirmée",
         "Économique"
        ]
       ],
       "datasetInfos": [
        {
         "name": "_sqldf",
         "schema": {
          "fields": [
           {
            "metadata": {},
            "name": "id_commande",
            "nullable": true,
            "type": "integer"
           },
           {
            "metadata": {},
            "name": "date_commande",
            "nullable": true,
            "type": "timestamp"
           },
           {
            "metadata": {},
            "name": "client",
            "nullable": true,
            "type": "string"
           },
           {
            "metadata": {},
            "name": "produit",
            "nullable": true,
            "type": "string"
           },
           {
            "metadata": {},
            "name": "montant",
            "nullable": true,
            "type": "double"
           },
           {
            "metadata": {},
            "name": "ville",
            "nullable": true,
            "type": "string"
           },
           {
            "metadata": {},
            "name": "statut",
            "nullable": true,
            "type": "string"
           },
           {
            "metadata": {},
            "name": "categorie_prix",
            "nullable": true,
            "type": "string"
           }
          ],
          "type": "struct"
         },
         "tableIdentifier": null,
         "typeStr": "pyspark.sql.connect.dataframe.DataFrame"
        }
       ],
       "dbfsResultPath": null,
       "isJsonSchema": true,
       "metadata": {
        "createTempViewForImplicitDf": true,
        "dataframeName": "_sqldf",
        "executionCount": 28
       },
       "overflow": false,
       "plotOptions": {
        "customPlotOptions": {},
        "displayType": "table",
        "pivotAggregation": null,
        "pivotColumns": null,
        "xColumns": null,
        "yColumns": null
       },
       "removedWidgets": [],
       "schema": [
        {
         "metadata": "{}",
         "name": "id_commande",
         "type": "\"integer\""
        },
        {
         "metadata": "{}",
         "name": "date_commande",
         "type": "\"timestamp\""
        },
        {
         "metadata": "{}",
         "name": "client",
         "type": "\"string\""
        },
        {
         "metadata": "{}",
         "name": "produit",
         "type": "\"string\""
        },
        {
         "metadata": "{}",
         "name": "montant",
         "type": "\"double\""
        },
        {
         "metadata": "{}",
         "name": "ville",
         "type": "\"string\""
        },
        {
         "metadata": "{}",
         "name": "statut",
         "type": "\"string\""
        },
        {
         "metadata": "{}",
         "name": "categorie_prix",
         "type": "\"string\""
        }
       ],
       "type": "table"
      }
     },
     "output_type": "display_data"
    }
   ],
   "source": [
    "%sql\n",
    "SELECT \n",
    "    id_commande,\n",
    "    date_commande,\n",
    "    client,\n",
    "    produit,\n",
    "    montant,\n",
    "    ville,\n",
    "    statut,\n",
    "    categorie_prix\n",
    "FROM formation.ventes_silver\n",
    "ORDER BY montant DESC"
   ]
  },
  {
   "cell_type": "code",
   "execution_count": 0,
   "metadata": {
    "application/vnd.databricks.v1+cell": {
     "cellMetadata": {
      "byteLimit": 2048000,
      "implicitDf": true,
      "rowLimit": 10000
     },
     "inputWidgets": {},
     "nuid": "7e4e8dbb-7889-47cf-95f4-20d7c8dced8c",
     "showTitle": false,
     "tableResultSettingsMap": {},
     "title": ""
    }
   },
   "outputs": [
    {
     "data": {
      "text/html": [
       "<style scoped>\n",
       "  .table-result-container {\n",
       "    max-height: 300px;\n",
       "    overflow: auto;\n",
       "  }\n",
       "  table, th, td {\n",
       "    border: 1px solid black;\n",
       "    border-collapse: collapse;\n",
       "  }\n",
       "  th, td {\n",
       "    padding: 5px;\n",
       "  }\n",
       "  th {\n",
       "    text-align: left;\n",
       "  }\n",
       "</style><div class='table-result-container'><table class='table-result'><thead style='background-color: white'><tr><th>ville</th><th>chiffre_affaires</th><th>nombre_commandes</th><th>panier_moyen</th></tr></thead><tbody><tr><td>Paris</td><td>1300.5</td><td>3</td><td>433.5</td></tr><tr><td>Lyon</td><td>1225.5</td><td>2</td><td>612.75</td></tr><tr><td>Marseille</td><td>350.0</td><td>1</td><td>350.0</td></tr></tbody></table></div>"
      ]
     },
     "metadata": {
      "application/vnd.databricks.v1+output": {
       "addedWidgets": {},
       "aggData": [],
       "aggError": "",
       "aggOverflow": false,
       "aggSchema": [],
       "aggSeriesLimitReached": false,
       "aggType": "",
       "arguments": {},
       "columnCustomDisplayInfos": {},
       "data": [
        [
         "Paris",
         1300.5,
         3,
         433.5
        ],
        [
         "Lyon",
         1225.5,
         2,
         612.75
        ],
        [
         "Marseille",
         350,
         1,
         350
        ]
       ],
       "datasetInfos": [
        {
         "name": "_sqldf",
         "schema": {
          "fields": [
           {
            "metadata": {},
            "name": "ville",
            "nullable": true,
            "type": "string"
           },
           {
            "metadata": {},
            "name": "chiffre_affaires",
            "nullable": true,
            "type": "double"
           },
           {
            "metadata": {},
            "name": "nombre_commandes",
            "nullable": true,
            "type": "long"
           },
           {
            "metadata": {},
            "name": "panier_moyen",
            "nullable": true,
            "type": "double"
           }
          ],
          "type": "struct"
         },
         "tableIdentifier": null,
         "typeStr": "pyspark.sql.connect.dataframe.DataFrame"
        }
       ],
       "dbfsResultPath": null,
       "isJsonSchema": true,
       "metadata": {
        "createTempViewForImplicitDf": true,
        "dataframeName": "_sqldf",
        "executionCount": 29
       },
       "overflow": false,
       "plotOptions": {
        "customPlotOptions": {},
        "displayType": "table",
        "pivotAggregation": null,
        "pivotColumns": null,
        "xColumns": null,
        "yColumns": null
       },
       "removedWidgets": [],
       "schema": [
        {
         "metadata": "{}",
         "name": "ville",
         "type": "\"string\""
        },
        {
         "metadata": "{}",
         "name": "chiffre_affaires",
         "type": "\"double\""
        },
        {
         "metadata": "{}",
         "name": "nombre_commandes",
         "type": "\"long\""
        },
        {
         "metadata": "{}",
         "name": "panier_moyen",
         "type": "\"double\""
        }
       ],
       "type": "table"
      }
     },
     "output_type": "display_data"
    }
   ],
   "source": [
    "%sql\n",
    "-- Classement des villes\n",
    "SELECT \n",
    "    ville,\n",
    "    chiffre_affaires,\n",
    "    nombre_commandes,\n",
    "    ROUND(panier_moyen, 2) as panier_moyen\n",
    "FROM formation.ventes_gold_ville\n",
    "ORDER BY chiffre_affaires DESC"
   ]
  },
  {
   "cell_type": "code",
   "execution_count": 0,
   "metadata": {
    "application/vnd.databricks.v1+cell": {
     "cellMetadata": {
      "byteLimit": 2048000,
      "implicitDf": true,
      "rowLimit": 10000
     },
     "inputWidgets": {},
     "nuid": "6e635d88-1b3a-4831-9c26-bc1fec4663cc",
     "showTitle": false,
     "tableResultSettingsMap": {},
     "title": ""
    }
   },
   "outputs": [
    {
     "data": {
      "text/html": [
       "<style scoped>\n",
       "  .table-result-container {\n",
       "    max-height: 300px;\n",
       "    overflow: auto;\n",
       "  }\n",
       "  table, th, td {\n",
       "    border: 1px solid black;\n",
       "    border-collapse: collapse;\n",
       "  }\n",
       "  th, td {\n",
       "    padding: 5px;\n",
       "  }\n",
       "  th {\n",
       "    text-align: left;\n",
       "  }\n",
       "</style><div class='table-result-container'><table class='table-result'><thead style='background-color: white'><tr><th>produit</th><th>quantite_vendue</th><th>revenu_total</th><th>prix_moyen</th></tr></thead><tbody><tr><td>Souris</td><td>2</td><td>51.0</td><td>25.5</td></tr><tr><td>Laptop</td><td>2</td><td>2400.0</td><td>1200.0</td></tr><tr><td>Écran</td><td>1</td><td>350.0</td><td>350.0</td></tr><tr><td>Clavier</td><td>1</td><td>75.0</td><td>75.0</td></tr></tbody></table></div>"
      ]
     },
     "metadata": {
      "application/vnd.databricks.v1+output": {
       "addedWidgets": {},
       "aggData": [],
       "aggError": "",
       "aggOverflow": false,
       "aggSchema": [],
       "aggSeriesLimitReached": false,
       "aggType": "",
       "arguments": {},
       "columnCustomDisplayInfos": {},
       "data": [
        [
         "Souris",
         2,
         51,
         25.5
        ],
        [
         "Laptop",
         2,
         2400,
         1200
        ],
        [
         "Écran",
         1,
         350,
         350
        ],
        [
         "Clavier",
         1,
         75,
         75
        ]
       ],
       "datasetInfos": [
        {
         "name": "_sqldf",
         "schema": {
          "fields": [
           {
            "metadata": {},
            "name": "produit",
            "nullable": true,
            "type": "string"
           },
           {
            "metadata": {},
            "name": "quantite_vendue",
            "nullable": true,
            "type": "long"
           },
           {
            "metadata": {},
            "name": "revenu_total",
            "nullable": true,
            "type": "double"
           },
           {
            "metadata": {},
            "name": "prix_moyen",
            "nullable": true,
            "type": "double"
           }
          ],
          "type": "struct"
         },
         "tableIdentifier": null,
         "typeStr": "pyspark.sql.connect.dataframe.DataFrame"
        }
       ],
       "dbfsResultPath": null,
       "isJsonSchema": true,
       "metadata": {
        "createTempViewForImplicitDf": true,
        "dataframeName": "_sqldf",
        "executionCount": 30
       },
       "overflow": false,
       "plotOptions": {
        "customPlotOptions": {},
        "displayType": "table",
        "pivotAggregation": null,
        "pivotColumns": null,
        "xColumns": null,
        "yColumns": null
       },
       "removedWidgets": [],
       "schema": [
        {
         "metadata": "{}",
         "name": "produit",
         "type": "\"string\""
        },
        {
         "metadata": "{}",
         "name": "quantite_vendue",
         "type": "\"long\""
        },
        {
         "metadata": "{}",
         "name": "revenu_total",
         "type": "\"double\""
        },
        {
         "metadata": "{}",
         "name": "prix_moyen",
         "type": "\"double\""
        }
       ],
       "type": "table"
      }
     },
     "output_type": "display_data"
    }
   ],
   "source": [
    "%sql\n",
    "-- Produits les plus vendus\n",
    "SELECT \n",
    "    produit,\n",
    "    quantite_vendue,\n",
    "    ROUND(revenu_total, 2) as revenu_total,\n",
    "    ROUND(prix_moyen, 2) as prix_moyen\n",
    "FROM formation.ventes_gold_produit\n",
    "ORDER BY quantite_vendue DESC"
   ]
  },
  {
   "cell_type": "code",
   "execution_count": 0,
   "metadata": {
    "application/vnd.databricks.v1+cell": {
     "cellMetadata": {
      "byteLimit": 2048000,
      "implicitDf": true,
      "rowLimit": 10000
     },
     "inputWidgets": {},
     "nuid": "c0eba658-ba1b-4e48-8dc1-a6663fc8d209",
     "showTitle": false,
     "tableResultSettingsMap": {},
     "title": ""
    }
   },
   "outputs": [
    {
     "data": {
      "text/html": [
       "<style scoped>\n",
       "  .table-result-container {\n",
       "    max-height: 300px;\n",
       "    overflow: auto;\n",
       "  }\n",
       "  table, th, td {\n",
       "    border: 1px solid black;\n",
       "    border-collapse: collapse;\n",
       "  }\n",
       "  th, td {\n",
       "    padding: 5px;\n",
       "  }\n",
       "  th {\n",
       "    text-align: left;\n",
       "  }\n",
       "</style><div class='table-result-container'><table class='table-result'><thead style='background-color: white'><tr><th>produit</th><th>quantite_vendue</th><th>revenu_total</th><th>prix_moyen</th></tr></thead><tbody><tr><td>Souris</td><td>2</td><td>51.0</td><td>25.5</td></tr><tr><td>Laptop</td><td>2</td><td>2400.0</td><td>1200.0</td></tr><tr><td>Écran</td><td>1</td><td>350.0</td><td>350.0</td></tr><tr><td>Clavier</td><td>1</td><td>75.0</td><td>75.0</td></tr></tbody></table></div>"
      ]
     },
     "metadata": {
      "application/vnd.databricks.v1+output": {
       "addedWidgets": {},
       "aggData": [],
       "aggError": "",
       "aggOverflow": false,
       "aggSchema": [],
       "aggSeriesLimitReached": false,
       "aggType": "",
       "arguments": {},
       "columnCustomDisplayInfos": {},
       "data": [
        [
         "Souris",
         2,
         51,
         25.5
        ],
        [
         "Laptop",
         2,
         2400,
         1200
        ],
        [
         "Écran",
         1,
         350,
         350
        ],
        [
         "Clavier",
         1,
         75,
         75
        ]
       ],
       "datasetInfos": [
        {
         "name": "_sqldf",
         "schema": {
          "fields": [
           {
            "metadata": {},
            "name": "produit",
            "nullable": true,
            "type": "string"
           },
           {
            "metadata": {},
            "name": "quantite_vendue",
            "nullable": true,
            "type": "long"
           },
           {
            "metadata": {},
            "name": "revenu_total",
            "nullable": true,
            "type": "double"
           },
           {
            "metadata": {},
            "name": "prix_moyen",
            "nullable": true,
            "type": "double"
           }
          ],
          "type": "struct"
         },
         "tableIdentifier": null,
         "typeStr": "pyspark.sql.connect.dataframe.DataFrame"
        }
       ],
       "dbfsResultPath": null,
       "isJsonSchema": true,
       "metadata": {
        "createTempViewForImplicitDf": true,
        "dataframeName": "_sqldf",
        "executionCount": 31
       },
       "overflow": false,
       "plotOptions": {
        "customPlotOptions": {},
        "displayType": "table",
        "pivotAggregation": null,
        "pivotColumns": null,
        "xColumns": null,
        "yColumns": null
       },
       "removedWidgets": [],
       "schema": [
        {
         "metadata": "{}",
         "name": "produit",
         "type": "\"string\""
        },
        {
         "metadata": "{}",
         "name": "quantite_vendue",
         "type": "\"long\""
        },
        {
         "metadata": "{}",
         "name": "revenu_total",
         "type": "\"double\""
        },
        {
         "metadata": "{}",
         "name": "prix_moyen",
         "type": "\"double\""
        }
       ],
       "type": "table"
      }
     },
     "output_type": "display_data"
    }
   ],
   "source": [
    "%sql\n",
    "-- Produits les plus vendus\n",
    "SELECT \n",
    "    produit,\n",
    "    quantite_vendue,\n",
    "    ROUND(revenu_total, 2) as revenu_total,\n",
    "    ROUND(prix_moyen, 2) as prix_moyen\n",
    "FROM formation.ventes_gold_produit\n",
    "ORDER BY quantite_vendue DESC"
   ]
  },
  {
   "cell_type": "code",
   "execution_count": 0,
   "metadata": {
    "application/vnd.databricks.v1+cell": {
     "cellMetadata": {
      "byteLimit": 2048000,
      "implicitDf": true,
      "rowLimit": 10000
     },
     "inputWidgets": {},
     "nuid": "1ac06c87-0c52-498e-bf34-4ce6176dcdc1",
     "showTitle": false,
     "tableResultSettingsMap": {},
     "title": ""
    }
   },
   "outputs": [
    {
     "data": {
      "text/html": [
       "<style scoped>\n",
       "  .table-result-container {\n",
       "    max-height: 300px;\n",
       "    overflow: auto;\n",
       "  }\n",
       "  table, th, td {\n",
       "    border: 1px solid black;\n",
       "    border-collapse: collapse;\n",
       "  }\n",
       "  th, td {\n",
       "    padding: 5px;\n",
       "  }\n",
       "  th {\n",
       "    text-align: left;\n",
       "  }\n",
       "</style><div class='table-result-container'><table class='table-result'><thead style='background-color: white'><tr><th>client</th><th>ville</th><th>nombre_achats</th><th>total_depense</th><th>panier_moyen</th></tr></thead><tbody><tr><td>Alice</td><td>Paris</td><td>2</td><td>1225.5</td><td>612.75</td></tr><tr><td>Emma</td><td>Lyon</td><td>1</td><td>1200.0</td><td>1200.0</td></tr><tr><td>David</td><td>Marseille</td><td>1</td><td>350.0</td><td>350.0</td></tr><tr><td>Claire</td><td>Paris</td><td>1</td><td>75.0</td><td>75.0</td></tr><tr><td>Bob</td><td>Lyon</td><td>1</td><td>25.5</td><td>25.5</td></tr></tbody></table></div>"
      ]
     },
     "metadata": {
      "application/vnd.databricks.v1+output": {
       "addedWidgets": {},
       "aggData": [],
       "aggError": "",
       "aggOverflow": false,
       "aggSchema": [],
       "aggSeriesLimitReached": false,
       "aggType": "",
       "arguments": {},
       "columnCustomDisplayInfos": {},
       "data": [
        [
         "Alice",
         "Paris",
         2,
         1225.5,
         612.75
        ],
        [
         "Emma",
         "Lyon",
         1,
         1200,
         1200
        ],
        [
         "David",
         "Marseille",
         1,
         350,
         350
        ],
        [
         "Claire",
         "Paris",
         1,
         75,
         75
        ],
        [
         "Bob",
         "Lyon",
         1,
         25.5,
         25.5
        ]
       ],
       "datasetInfos": [
        {
         "name": "_sqldf",
         "schema": {
          "fields": [
           {
            "metadata": {},
            "name": "client",
            "nullable": true,
            "type": "string"
           },
           {
            "metadata": {},
            "name": "ville",
            "nullable": true,
            "type": "string"
           },
           {
            "metadata": {},
            "name": "nombre_achats",
            "nullable": false,
            "type": "long"
           },
           {
            "metadata": {},
            "name": "total_depense",
            "nullable": true,
            "type": "double"
           },
           {
            "metadata": {},
            "name": "panier_moyen",
            "nullable": true,
            "type": "double"
           }
          ],
          "type": "struct"
         },
         "tableIdentifier": null,
         "typeStr": "pyspark.sql.connect.dataframe.DataFrame"
        }
       ],
       "dbfsResultPath": null,
       "isJsonSchema": true,
       "metadata": {
        "createTempViewForImplicitDf": true,
        "dataframeName": "_sqldf",
        "executionCount": 34
       },
       "overflow": false,
       "plotOptions": {
        "customPlotOptions": {},
        "displayType": "table",
        "pivotAggregation": null,
        "pivotColumns": null,
        "xColumns": null,
        "yColumns": null
       },
       "removedWidgets": [],
       "schema": [
        {
         "metadata": "{}",
         "name": "client",
         "type": "\"string\""
        },
        {
         "metadata": "{}",
         "name": "ville",
         "type": "\"string\""
        },
        {
         "metadata": "{}",
         "name": "nombre_achats",
         "type": "\"long\""
        },
        {
         "metadata": "{}",
         "name": "total_depense",
         "type": "\"double\""
        },
        {
         "metadata": "{}",
         "name": "panier_moyen",
         "type": "\"double\""
        }
       ],
       "type": "table"
      }
     },
     "output_type": "display_data"
    }
   ],
   "source": [
    "%sql\n",
    "-- Quel client a dépensé le plus ?\n",
    "SELECT \n",
    "    client,\n",
    "    ville,\n",
    "    COUNT(*) as nombre_achats,\n",
    "    SUM(montant) as total_depense,\n",
    "    ROUND(AVG(montant), 2) as panier_moyen\n",
    "FROM formation.ventes_silver\n",
    "GROUP BY client, ville\n",
    "ORDER BY total_depense DESC"
   ]
  }
 ],
 "metadata": {
  "application/vnd.databricks.v1+notebook": {
   "computePreferences": null,
   "dashboards": [],
   "environmentMetadata": {
    "base_environment": "",
    "environment_version": "4"
   },
   "inputWidgetPreferences": null,
   "language": "python",
   "notebookMetadata": {
    "mostRecentlyExecutedCommandWithImplicitDF": {
     "commandId": 7582471938144695,
     "dataframes": [
      "_sqldf"
     ]
    },
    "pythonIndentUnit": 4
   },
   "notebookName": "01_Formation_Pipeline",
   "widgets": {}
  },
  "language_info": {
   "name": "python"
  }
 },
 "nbformat": 4,
 "nbformat_minor": 0
}
